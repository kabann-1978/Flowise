{
  "nbformat": 4,
  "nbformat_minor": 0,
  "metadata": {
    "colab": {
      "provenance": [],
      "authorship_tag": "ABX9TyNjT2YZefBkqP8nozFebZj/",
      "include_colab_link": true
    },
    "kernelspec": {
      "name": "python3",
      "display_name": "Python 3"
    },
    "language_info": {
      "name": "python"
    }
  },
  "cells": [
    {
      "cell_type": "markdown",
      "metadata": {
        "id": "view-in-github",
        "colab_type": "text"
      },
      "source": [
        "<a href=\"https://colab.research.google.com/github/kabann-1978/Flowise/blob/main/exemplo_rede_neural_do_zero.ipynb\" target=\"_parent\"><img src=\"https://colab.research.google.com/assets/colab-badge.svg\" alt=\"Open In Colab\"/></a>"
      ]
    },
    {
      "cell_type": "code",
      "execution_count": 78,
      "metadata": {
        "id": "HVAP37X-Y7Bs"
      },
      "outputs": [],
      "source": [
        "# exemplo de rede neural que reconhece dígitos\n",
        "\n",
        "import numpy as np\n",
        "import torch\n",
        "import torch.nn.functional as F\n",
        "import matplotlib.pyplot as plt\n",
        "from time import time\n",
        "from torchvision import datasets, transforms\n",
        "from torch import nn, optim"
      ]
    },
    {
      "cell_type": "code",
      "source": [
        "transform = transforms.ToTensor() # define a conversão de imagem para tensor, pq se deixar em jpeg o desempenho não é tão bom como em \"tensor\"\n",
        "\n",
        "trainset = datasets.MNIST('./MNIST_data/', download=True, train=True, transform=transform) # carrega a parte de treino do dataset\n",
        "trainloader = torch.utils.data.DataLoader(trainset, batch_size=36, shuffle=True) # cria um buffer para pegar os dados por partes\n",
        "\n",
        "valset = datasets.MNIST('./MNIST_data/', download=True, train=False, transform=transform) #carrega a parte de validadção do dataset\n",
        "valloader = torch.utils.data.DataLoader(valset, batch_size=36, shuffle=True) # cria um buffer para pegar os dados por partes"
      ],
      "metadata": {
        "id": "a4VA7yNweBel"
      },
      "execution_count": 79,
      "outputs": []
    },
    {
      "cell_type": "code",
      "source": [
        "# exibe uma imagem da importação\n",
        "\n",
        "dataiter = iter(trainloader)\n",
        "imagens, etiquetas = next(dataiter)\n",
        "plt.imshow(imagens[0].numpy().squeeze(), cmap='gray_r');"
      ],
      "metadata": {
        "colab": {
          "base_uri": "https://localhost:8080/",
          "height": 450
        },
        "id": "Zb9CDVCVdJpH",
        "outputId": "a52154de-9903-4018-aa6b-bfd5961de059"
      },
      "execution_count": 80,
      "outputs": [
        {
          "output_type": "display_data",
          "data": {
            "text/plain": [
              "<Figure size 640x480 with 1 Axes>"
            ],
            "image/png": "[encoded data removed]"
          },
          "metadata": {}
        }
      ]
    },
    {
      "cell_type": "code",
      "source": [
        "print(imagens[0].shape) # verifica as dimensões do tensor de cada imagem\n",
        "print(etiquetas[0].shape) # verifica as dimensões do tensor de cada etiqueta"
      ],
      "metadata": {
        "colab": {
          "base_uri": "https://localhost:8080/"
        },
        "id": "3sLfhhCJnbew",
        "outputId": "03101a42-ec77-433e-e801-3efe7d68d5a2"
      },
      "execution_count": 81,
      "outputs": [
        {
          "output_type": "stream",
          "name": "stdout",
          "text": [
            "torch.Size([1, 28, 28])\n",
            "torch.Size([])\n"
          ]
        }
      ]
    },
    {
      "cell_type": "code",
      "source": [
        "# define a estrutura da rede neural\n",
        "\n",
        "class Modelo(nn.Module):\n",
        "  def __init__(self):\n",
        "    super(Modelo, self).__init__()\n",
        "    self.linear1 = nn.Linear(28*28, 128) # camada de entrada, 784 neurôneos que se ligam a 128\n",
        "    self.linear2 = nn.Linear(128, 64) # camada interna 1, 128 neurôneos que se ligam a 64\n",
        "    self.lienar3 = nn.Linear(64, 10) # camada interna 2, 64 neurôneos que se ligam a 10\n",
        "\n",
        "# para a camada de saída não é necessário definir nada, pois só precisamos pegar o output da camada interna 2\n",
        "\n",
        "def forward(self, x):\n",
        "  x = F.relu(self.linear1(x)) # função que ativa a camada de entrada para a camada interna 1\n",
        "  x = F.relu(self.linear2(x)) # função que ativa a camada interna 1 para a camada 2\n",
        "  x = F.self.lienar3(x) # função que ativa a camada interna 2 para a camada de saída (f(x)=x)\n",
        "  return F.log_softmax(x,dim=1) # dados usados para cálculo da perda\n",
        "\n"
      ],
      "metadata": {
        "id": "ZmXHAKyFoF05"
      },
      "execution_count": 82,
      "outputs": []
    },
    {
      "cell_type": "code",
      "source": [
        "# define o modelo de treinamento da rede neural\n",
        "\n",
        "def treino(modelo, treinloader, device):\n",
        "\n",
        "  otimizador = optim.SGD(modelo.parameters(), lr=0.01, momentum=0.5) # define a política de atualização dos pesos e das bias\n",
        "  inicio = time() # timer definido para saber quanto tempo levou o treino da rede\n",
        "\n",
        "  criterio = nn.NLLLoss() # define o critério para calcular a perda\n",
        "  EPOCHS = 10 # número constante de epochs que o algoritmo irá processar (ideal é pelo menos 100, porém, leva muito tempo, para efeito de estudo está somente 10)\n",
        "  modelo.train() # ativa o modo de treinamento do modelo\n",
        "\n",
        "  for epoch in range(EPOCHS):\n",
        "    perda_acumulada = 0 # inicialização da perda acumulada da epoch em questão\n",
        "\n",
        "    for imagens, etiquetas in trainloader:\n",
        "\n",
        "      imagens = imagens.view(imagens.shape[0], -1) # converte as imagens para \"vetores\" de 28*28 casas para ficarem compatíveis\n",
        "      otimizador.zero_grad() # zera os gradientes por conta do ciclo anterior\n",
        "\n",
        "      output = modelo(imagens.to(device)) # coloca os dados no modelo\n",
        "      perda_instantanea = criterio(output, etiquetas.to(device)) # calcula a perda da epoch em utilizada no momento\n",
        "\n",
        "      perda_instantanea.backward() # back propagation a partir da perda\n",
        "\n",
        "      otimizador.step() # atualiza os pesos e as bías\n",
        "\n",
        "      perda_acumulada += perda_instantanea.item() # atualização da perda acumulada\n",
        "\n",
        "    else:\n",
        "      print(\"Epoch {} - Perda resultante: {}\".format(epoch+1, perda_acumulada/len(trainloader)))\n",
        "  print(\"\\nTempo de treino (em minutos) \",(time()-inicio)/60)\n"
      ],
      "metadata": {
        "id": "twyMSao82sCZ"
      },
      "execution_count": 83,
      "outputs": []
    },
    {
      "cell_type": "code",
      "source": [
        "# compara uma imagem não treinada com as imagens treinadas\n",
        "\n",
        "def validacao(modelo, valloader, device):\n",
        "  conta_corretas, conta_todas = 0, 0\n",
        "  for imagens, etiquetas in valloader:\n",
        "    for i in range(len(etiquetas)):\n",
        "      img = imagens[i].view(1,784)\n",
        "\n",
        "      # Desativa o autograd para acelerar a validação. Os grafos computacionais possuem um alto custo computacional\n",
        "\n",
        "      with torch.no_grad():\n",
        "        logps = modelo(img.to(device)) # output do modelo de escala logarítimica\n",
        "\n",
        "\n",
        "      ps = torch.exp(logps) # converte output para escala normal (lembrando que é um tensor)\n",
        "      probab = list(ps.cpu().numpy()[0])\n",
        "      etiqueta_pred = probab.index(max(probab)) # converte o tensor em um número, neste caso, o número que o modelo previu no treino\n",
        "      etiqueta_certa = etiquetas.numpy()[1]\n",
        "      if (etiqueta_certa == etiqueta_pred): # compara a previsão com o valor correto\n",
        "        conta_corretas += 1\n",
        "      conta_todas += 1\n",
        "  print(\"Total de imagens testadas *\", conta_todas)\n",
        "  print(\"\\nPrecisão do modelo * {}%\".format(conta_corretas*100/conta_todas))\n"
      ],
      "metadata": {
        "id": "CXJJKY2e5vFZ"
      },
      "execution_count": 84,
      "outputs": []
    },
    {
      "cell_type": "code",
      "source": [
        "# instancia o modelo\n",
        "\n",
        "modelo = Modelo()\n",
        "\n",
        "# Verifica se possui modelo cuda em GPU, se não, CPU\n",
        "device = torch.device(\"cuda\" if torch.cuda.is_available() else \"cpu\")\n",
        "modelo.to(device)"
      ],
      "metadata": {
        "colab": {
          "base_uri": "https://localhost:8080/"
        },
        "id": "fMWkDrHdHzA5",
        "outputId": "baeff609-b51f-4b77-f825-94c7fa6cad99"
      },
      "execution_count": 85,
      "outputs": [
        {
          "output_type": "execute_result",
          "data": {
            "text/plain": [
              "Modelo(\n",
              "  (linear1): Linear(in_features=784, out_features=128, bias=True)\n",
              "  (linear2): Linear(in_features=128, out_features=64, bias=True)\n",
              "  (lienar3): Linear(in_features=64, out_features=10, bias=True)\n",
              ")"
            ]
          },
          "metadata": {},
          "execution_count": 85
        }
      ]
    }
  ]
}